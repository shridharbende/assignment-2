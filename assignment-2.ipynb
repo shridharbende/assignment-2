{
 "cells": [
  {
   "cell_type": "markdown",
   "id": "1060125f-de61-4a6d-a181-1aaf0159606e",
   "metadata": {},
   "source": [
    "Q1. How do you comment code in Python? What are the different types of comments?"
   ]
  },
  {
   "cell_type": "markdown",
   "id": "5c48c707-7f0e-49e0-a092-6ff7d88f5229",
   "metadata": {},
   "source": [
    "#Comments in Python are the lines in the code that are ignored by the interpreter during the execution of the program. Comments enhance the readability of the code and help the programmers to understand the code very carefully.\n",
    "There are three types of comments in Python:\n",
    "\n",
    "1)Single line Comments.\n",
    "ex: # this is my first class of python.\n",
    "\n",
    "2)Multiline Comments.\n",
    "\n",
    "ex: #my name is shridhar.\n",
    "    #working in bajaj steel industries.\n",
    "    #i am from nagpur.\n",
    "    \n",
    "3)Docstring Comments.\n",
    "\n",
    "ex: '''Takes in a number n, returns the square of n'''"
   ]
  },
  {
   "cell_type": "markdown",
   "id": "34d76d2e-f644-4702-b3e3-9d3d31c50d7b",
   "metadata": {},
   "source": [
    "Q2. What are variables in Python? How do you declare and assign values to variables?"
   ]
  },
  {
   "cell_type": "code",
   "execution_count": 3,
   "id": "b4eff504-4439-4557-aad8-8200df9aa937",
   "metadata": {},
   "outputs": [],
   "source": [
    "#ANS :- \n",
    "#Variable in python : Integer, float , string, boolean , list , dictionary , tuple , set are the type of variable.\n",
    "\n",
    "i = 10"
   ]
  },
  {
   "cell_type": "code",
   "execution_count": 4,
   "id": "3ad55844-ae95-4b40-bcda-f5ad942809c9",
   "metadata": {},
   "outputs": [
    {
     "data": {
      "text/plain": [
       "10"
      ]
     },
     "execution_count": 4,
     "metadata": {},
     "output_type": "execute_result"
    }
   ],
   "source": [
    "i"
   ]
  },
  {
   "cell_type": "markdown",
   "id": "9471a250-cd77-402d-a5cb-5624e64b2449",
   "metadata": {},
   "source": [
    "Q3. How do you convert one data type to another in Python?"
   ]
  },
  {
   "cell_type": "markdown",
   "id": "cd324d70-237a-488f-bd27-41f6fd635a8e",
   "metadata": {},
   "source": [
    "ANS:-\n",
    "Python defines type conversion functions like int(), float(), str() to directly convert one data type into another. This type of conversion is also called typecasting because the user casts (change) the data type of the objects. This function converts any data type into integer."
   ]
  },
  {
   "cell_type": "code",
   "execution_count": 8,
   "id": "0abf74c8-6754-4444-b282-06dd7536fe06",
   "metadata": {},
   "outputs": [],
   "source": [
    "a = 3.45"
   ]
  },
  {
   "cell_type": "code",
   "execution_count": 10,
   "id": "8e5fbc7c-7d83-44de-9c12-8853d9be241e",
   "metadata": {},
   "outputs": [
    {
     "data": {
      "text/plain": [
       "3"
      ]
     },
     "execution_count": 10,
     "metadata": {},
     "output_type": "execute_result"
    }
   ],
   "source": [
    "int(a)"
   ]
  },
  {
   "cell_type": "code",
   "execution_count": 13,
   "id": "17da3916-1a6e-492b-9ec7-4501a808f505",
   "metadata": {},
   "outputs": [
    {
     "data": {
      "text/plain": [
       "int"
      ]
     },
     "execution_count": 13,
     "metadata": {},
     "output_type": "execute_result"
    }
   ],
   "source": [
    "type(int(a))"
   ]
  },
  {
   "cell_type": "markdown",
   "id": "79001cfb-a4d2-4591-b542-e413f8b6613e",
   "metadata": {},
   "source": [
    "Q4. How do you write and execute a Python script from the command line?"
   ]
  },
  {
   "cell_type": "code",
   "execution_count": 28,
   "id": "61bcbc42-a882-4493-99e9-55a52daf67f0",
   "metadata": {},
   "outputs": [
    {
     "data": {
      "text/plain": [
       "'hello second world'"
      ]
     },
     "execution_count": 28,
     "metadata": {},
     "output_type": "execute_result"
    }
   ],
   "source": [
    "'python second_world.py'\n",
    "'hello second world'"
   ]
  },
  {
   "cell_type": "markdown",
   "id": "b5dbd0ce-b023-4cbb-a241-14d753650be2",
   "metadata": {},
   "source": [
    "Q5. Given a list my_list = [1, 2, 3, 4, 5], write the code to slice the list and obtain the sub-list [2, 3]."
   ]
  },
  {
   "cell_type": "code",
   "execution_count": 30,
   "id": "0fbc6dcc-bd4d-4d28-9997-6706ed7bc7da",
   "metadata": {},
   "outputs": [
    {
     "data": {
      "text/plain": [
       "[2, 3]"
      ]
     },
     "execution_count": 30,
     "metadata": {},
     "output_type": "execute_result"
    }
   ],
   "source": [
    "my_list = [1,2,3,4,5]\n",
    "l1 = my_list[1:3:1]\n",
    "l1"
   ]
  },
  {
   "cell_type": "markdown",
   "id": "9dfee8ca-51ad-4806-a605-92305972f451",
   "metadata": {},
   "source": [
    "Q6. What is a complex number in mathematics, and how is it represented in Python?"
   ]
  },
  {
   "cell_type": "code",
   "execution_count": 31,
   "id": "75c3d2d6-6852-41f8-b96a-fef67db99af5",
   "metadata": {},
   "outputs": [],
   "source": [
    "#Complex numbers are created from two real numbers.\n",
    "#It can be written in the form of (x + yj) where x and y are real numbers and j is an imaginary number which is the square root of -1.\n",
    "\n",
    "a =4+5j"
   ]
  },
  {
   "cell_type": "markdown",
   "id": "687c759d-689b-470f-9ec1-ebfe133c56e1",
   "metadata": {},
   "source": [
    "Q7. What is the correct way to declare a variable named age and assign the value 25 to it?"
   ]
  },
  {
   "cell_type": "code",
   "execution_count": 35,
   "id": "111573ce-d44e-4fe0-8227-146caaf11598",
   "metadata": {},
   "outputs": [],
   "source": [
    "age = int(25)"
   ]
  },
  {
   "cell_type": "markdown",
   "id": "a7b26b7d-202c-410e-91bb-adef05fdf9a0",
   "metadata": {},
   "source": [
    "Q8. Declare a variable named price and assign the value 9.99 to it. What data type does this variable\n",
    "belong to?"
   ]
  },
  {
   "cell_type": "code",
   "execution_count": 37,
   "id": "6a3b31e3-a658-4f7f-8c1f-e9b4a86a29da",
   "metadata": {},
   "outputs": [],
   "source": [
    "price = 9.99"
   ]
  },
  {
   "cell_type": "code",
   "execution_count": 38,
   "id": "4dfdbe17-2262-4b72-8105-6a8d6ec8d321",
   "metadata": {},
   "outputs": [
    {
     "data": {
      "text/plain": [
       "float"
      ]
     },
     "execution_count": 38,
     "metadata": {},
     "output_type": "execute_result"
    }
   ],
   "source": [
    "type(price)"
   ]
  },
  {
   "cell_type": "markdown",
   "id": "510de416-334b-44c2-810a-2cc0f03ea605",
   "metadata": {},
   "source": [
    "Q9. Create a variable named name and assign your full name to it as a string. How would you print the\n",
    "value of this variable?"
   ]
  },
  {
   "cell_type": "code",
   "execution_count": 43,
   "id": "5fc1b93e-cd21-473c-99b1-611c953c9096",
   "metadata": {},
   "outputs": [],
   "source": [
    "name = 'shridhar bende'"
   ]
  },
  {
   "cell_type": "code",
   "execution_count": 44,
   "id": "c485ec65-9b76-4459-bb54-9396c7633c4e",
   "metadata": {},
   "outputs": [
    {
     "data": {
      "text/plain": [
       "'shridhar bende'"
      ]
     },
     "execution_count": 44,
     "metadata": {},
     "output_type": "execute_result"
    }
   ],
   "source": [
    "name"
   ]
  },
  {
   "cell_type": "markdown",
   "id": "a09abccb-f435-40c5-8506-79394176fe99",
   "metadata": {},
   "source": [
    "Q10. Given the string \"Hello, World!\", extract the substring \"World\"."
   ]
  },
  {
   "cell_type": "code",
   "execution_count": 54,
   "id": "4c349510-79b2-4424-a229-2ed07f167a84",
   "metadata": {},
   "outputs": [
    {
     "data": {
      "text/plain": [
       "'world'"
      ]
     },
     "execution_count": 54,
     "metadata": {},
     "output_type": "execute_result"
    }
   ],
   "source": [
    "s = \"hello, world\"\n",
    "s[7:12:1]"
   ]
  },
  {
   "cell_type": "markdown",
   "id": "766283c8-1425-4ebf-933f-a91696e280f0",
   "metadata": {},
   "source": [
    "Q11. Create a variable named \"is_student\" and assign it a boolean value indicating whether you are\n",
    "currently a student or not."
   ]
  },
  {
   "cell_type": "code",
   "execution_count": 62,
   "id": "6cd9617e-34ef-497a-9b3e-46a43b50c416",
   "metadata": {},
   "outputs": [
    {
     "name": "stdout",
     "output_type": "stream",
     "text": [
      "True\n"
     ]
    }
   ],
   "source": [
    "is_student = True\n",
    "print(is_student)\n"
   ]
  },
  {
   "cell_type": "code",
   "execution_count": null,
   "id": "d2380094-4fbd-420a-a133-d77bb1861ba5",
   "metadata": {},
   "outputs": [],
   "source": []
  }
 ],
 "metadata": {
  "kernelspec": {
   "display_name": "Python 3 (ipykernel)",
   "language": "python",
   "name": "python3"
  },
  "language_info": {
   "codemirror_mode": {
    "name": "ipython",
    "version": 3
   },
   "file_extension": ".py",
   "mimetype": "text/x-python",
   "name": "python",
   "nbconvert_exporter": "python",
   "pygments_lexer": "ipython3",
   "version": "3.10.8"
  }
 },
 "nbformat": 4,
 "nbformat_minor": 5
}
